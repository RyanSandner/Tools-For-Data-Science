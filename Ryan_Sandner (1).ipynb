{
 "cells": [
  {
   "cell_type": "markdown",
   "id": "0dead159-b0f1-4ccb-8349-7fc58d6c5754",
   "metadata": {},
   "source": [
    "# My Jupyter Notebook on IBM Watson Studio\n"
   ]
  },
  {
   "cell_type": "markdown",
   "id": "21819c5a-9529-4e89-9666-102e97725e69",
   "metadata": {},
   "source": [
    "**Ryan Sandner** \n",
    "\n",
    "Mechanical Engineer"
   ]
  },
  {
   "cell_type": "markdown",
   "id": "747e15a2-f0b2-4f5d-9e9d-d3b14561fbb5",
   "metadata": {},
   "source": [
    "*I am interested in Data Science as a tool to help understand how tool life parameters (tool geometry, material, speeds, feeds) relate to feature geometry and part performance over time.  I have collected the data and now need to learn how to analyize it*"
   ]
  },
  {
   "cell_type": "markdown",
   "id": "b9933d78-d457-439f-b731-2b7729dd1db6",
   "metadata": {},
   "source": [
    "### My code in cell 5 is calculating the number of seconds in an average year (365.25 days to account for leap year)\n"
   ]
  },
  {
   "cell_type": "code",
   "execution_count": 2,
   "id": "de59af71-dfea-41af-8341-31beb8ea9abf",
   "metadata": {},
   "outputs": [
    {
     "data": {
      "text/plain": [
       "31557600.0"
      ]
     },
     "execution_count": 2,
     "metadata": {},
     "output_type": "execute_result"
    }
   ],
   "source": [
    "365.25*24*60*60"
   ]
  },
  {
   "cell_type": "markdown",
   "id": "155f0e4c-5b1a-4123-9c22-48b6da76de3c",
   "metadata": {},
   "source": [
    "The following parameters are used in the calculation above\n",
    "\n",
    "|Parameter|Value|\n",
    "|---|---|\n",
    "|Days in Year|365.25|\n",
    "|Hours per day|24|\n",
    "|Minutes per hour|60|\n",
    "|Seconds per minute|60|\n",
    "\n",
    "\n",
    "\n",
    "The link below is for a google search for \"how many seconds in a year\".\n",
    "\n",
    "\n",
    "\n",
    "[google search](https://www.google.com/search?q=how+many+seconds+in+a+year&rlz=1C1GGRV_enUS770US770&oq=how+many+se&aqs=chrome.0.69i59j69i57.5520j0j7&sourceid=chrome&ie=UTF-8)\n",
    "\n",
    "\n",
    "\n",
    "\n",
    "The line below is an example of a strikethrough\n",
    "\n",
    "~~Leap year does not count~~\n",
    "\n"
   ]
  },
  {
   "cell_type": "markdown",
   "id": "5c35c220-c1f1-40ae-918d-9bedad68a2ee",
   "metadata": {
    "tags": []
   },
   "source": [
    "# Extra\n",
    "## Credit\n",
    "\n",
    "Testing list - steps (not inclusive) for ordering pizza\n",
    "\n",
    "1. Decide on Restaurant\n",
    "2. Look up phone number\n",
    "3. Call restaurant\n",
    "4. Place order\n",
    "5. Request delivery\n",
    "6. Pay driver - do not forget tip\n",
    "7. Enjoy pizza"
   ]
  },
  {
   "cell_type": "code",
   "execution_count": null,
   "id": "599c8e05-10ae-461e-bf48-2c0ee18a20b5",
   "metadata": {},
   "outputs": [],
   "source": []
  }
 ],
 "metadata": {
  "kernelspec": {
   "display_name": "Python",
   "language": "python",
   "name": "conda-env-python-py"
  },
  "language_info": {
   "codemirror_mode": {
    "name": "ipython",
    "version": 3
   },
   "file_extension": ".py",
   "mimetype": "text/x-python",
   "name": "python",
   "nbconvert_exporter": "python",
   "pygments_lexer": "ipython3",
   "version": "3.7.12"
  }
 },
 "nbformat": 4,
 "nbformat_minor": 5
}
